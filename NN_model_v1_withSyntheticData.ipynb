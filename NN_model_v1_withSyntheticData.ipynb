{
 "cells": [
  {
   "cell_type": "code",
   "execution_count": 78,
   "id": "8a215c20",
   "metadata": {},
   "outputs": [],
   "source": [
    "import numpy as np\n",
    "import torch\n",
    "import torch.nn as nn\n",
    "import torch.nn.functional as F\n",
    "from torch.utils.data import Dataset, DataLoader, random_split\n",
    "import matplotlib.pyplot as plt\n",
    "import seaborn as sns\n",
    "from sklearn.metrics import confusion_matrix, accuracy_score, precision_score, recall_score"
   ]
  },
  {
   "cell_type": "code",
   "execution_count": 129,
   "id": "78a9396a",
   "metadata": {},
   "outputs": [
    {
     "name": "stdout",
     "output_type": "stream",
     "text": [
      "{'rainfall': torch.Size([24, 1]), 'duration': torch.Size([1]), 'buildings': torch.Size([32, 32]), 'flood': torch.Size([32, 32])}\n"
     ]
    }
   ],
   "source": [
    "class SyntheticFloodDataset(Dataset):\n",
    "    def __init__(self, num_samples=1000, seq_len=24, grid_size=32):\n",
    "        self.num_samples = num_samples\n",
    "        self.seq_len = seq_len\n",
    "        self.grid_size = grid_size\n",
    "\n",
    "    def __len__(self):\n",
    "        return self.num_samples\n",
    "\n",
    "    def __getitem__(self, idx):\n",
    "        # Generate rainfall time series (T x 1)\n",
    "        rainfall = np.random.rand(self.seq_len, 1) * 20  # mm/hr\n",
    "        \n",
    "        # Scalar duration feature\n",
    "        duration = np.random.randint(1, self.seq_len + 1)\n",
    "        \n",
    "        # Building footprint (random binary grid)\n",
    "        building_map = np.random.rand(self.grid_size, self.grid_size)\n",
    "        building_map = (building_map > 0.60).astype(np.float32)\n",
    "\n",
    "        # Generate flood map (simple logic: high rain & no building → flood)\n",
    "        rain_intensity = rainfall[:duration].mean()\n",
    "        flood_map = ((1 - building_map) * rain_intensity * 1 / 20 + np.random.rand(self.grid_size, self.grid_size) * 0.1)\n",
    "        flood_map = (flood_map > 0.5).astype(np.float32)\n",
    "\n",
    "        return {\n",
    "            \"rainfall\": torch.tensor(rainfall, dtype=torch.float32),\n",
    "            \"duration\": torch.tensor([duration], dtype=torch.float32),\n",
    "            \"buildings\": torch.tensor(building_map, dtype=torch.float32),\n",
    "            \"flood\": torch.tensor(flood_map, dtype=torch.float32),\n",
    "        }\n",
    "\n",
    "# Generate the synthetic dataset\n",
    "dataset = SyntheticFloodDataset()\n",
    "sample = dataset[0]\n",
    "print({k: v.shape for k, v in sample.items()})\n"
   ]
  },
  {
   "cell_type": "code",
   "execution_count": 130,
   "id": "b0109922",
   "metadata": {},
   "outputs": [
    {
     "data": {
      "image/png": "[encoded data removed]",
      "text/plain": [
       "<Figure size 1000x400 with 2 Axes>"
      ]
     },
     "metadata": {},
     "output_type": "display_data"
    }
   ],
   "source": [
    "# Visualize a sample in the Dataset \n",
    "sample = dataset[0]\n",
    "plt.figure(figsize=(10, 4))\n",
    "plt.subplot(1, 2, 1)\n",
    "plt.imshow(sample[\"buildings\"], cmap=\"gray\")\n",
    "plt.title(\"Building Footprint\")\n",
    "plt.subplot(1, 2, 2)\n",
    "plt.imshow(sample[\"flood\"], cmap=\"Blues\")\n",
    "plt.title(\"Flood Map\")\n",
    "plt.show()\n"
   ]
  },
  {
   "cell_type": "code",
   "execution_count": 131,
   "id": "7bc6bf9e",
   "metadata": {},
   "outputs": [
    {
     "data": {
      "text/plain": [
       "{'rainfall': tensor([[16.0931],\n",
       "         [11.6479],\n",
       "         [16.1016],\n",
       "         [14.4202],\n",
       "         [17.0833],\n",
       "         [ 0.6654],\n",
       "         [11.8417],\n",
       "         [17.6017],\n",
       "         [17.4907],\n",
       "         [ 9.7026],\n",
       "         [ 3.1080],\n",
       "         [ 0.9796],\n",
       "         [13.1089],\n",
       "         [ 5.7323],\n",
       "         [ 5.7748],\n",
       "         [ 3.2870],\n",
       "         [ 6.7957],\n",
       "         [13.7539],\n",
       "         [14.1149],\n",
       "         [ 3.6025],\n",
       "         [ 1.3570],\n",
       "         [16.8483],\n",
       "         [11.9277],\n",
       "         [17.3449]]),\n",
       " 'duration': tensor([4.]),\n",
       " 'buildings': tensor([[1., 0., 1.,  ..., 0., 1., 0.],\n",
       "         [1., 0., 0.,  ..., 0., 0., 0.],\n",
       "         [1., 1., 0.,  ..., 0., 0., 0.],\n",
       "         ...,\n",
       "         [1., 0., 1.,  ..., 0., 1., 1.],\n",
       "         [0., 1., 0.,  ..., 0., 0., 1.],\n",
       "         [0., 0., 1.,  ..., 1., 0., 1.]]),\n",
       " 'flood': tensor([[0., 1., 0.,  ..., 1., 0., 1.],\n",
       "         [0., 1., 1.,  ..., 1., 1., 1.],\n",
       "         [0., 0., 1.,  ..., 1., 1., 1.],\n",
       "         ...,\n",
       "         [0., 1., 0.,  ..., 1., 0., 0.],\n",
       "         [1., 0., 1.,  ..., 1., 1., 0.],\n",
       "         [1., 1., 0.,  ..., 0., 1., 0.]])}"
      ]
     },
     "execution_count": 131,
     "metadata": {},
     "output_type": "execute_result"
    }
   ],
   "source": [
    "dataset[0]"
   ]
  },
  {
   "cell_type": "code",
   "execution_count": 132,
   "id": "eba836e6",
   "metadata": {},
   "outputs": [],
   "source": [
    "# Model Structure:\n",
    "\n",
    "class FloodPredictor(nn.Module):\n",
    "    def __init__(self, seq_len=24, grid_size=32, hidden_dim=64):\n",
    "        super(FloodPredictor, self).__init__()\n",
    "        self.grid_size = grid_size\n",
    "\n",
    "        # LSTM for rainfall sequence\n",
    "        self.lstm = nn.LSTM(input_size=1, hidden_size=hidden_dim, batch_first=True)\n",
    "        \n",
    "        # FC for rainfall duration\n",
    "        self.duration_fc = nn.Linear(1, hidden_dim)\n",
    "\n",
    "        # CNN for building map\n",
    "        self.building_encoder = nn.Sequential(\n",
    "            nn.Conv2d(1, 16, kernel_size=3, padding=1),\n",
    "            nn.ReLU(),\n",
    "            nn.Conv2d(16, 32, kernel_size=3, padding=1),\n",
    "            nn.ReLU(),\n",
    "        )\n",
    "\n",
    "        # Fusion layer to combine time features + duration + building features\n",
    "        self.fusion_fc = nn.Linear(hidden_dim * 2, grid_size * grid_size)\n",
    "\n",
    "        # Decoder CNN to predict flood map\n",
    "        self.decoder = nn.Sequential(\n",
    "            nn.Conv2d(33, 32, kernel_size=3, padding=1),  # 32 from CNN + 1 from broadcasted fusion\n",
    "            nn.ReLU(),\n",
    "            nn.Conv2d(32, 1, kernel_size=1),  # output 1 channel (probability)\n",
    "            nn.Sigmoid()\n",
    "        )\n",
    "\n",
    "    def forward(self, rainfall, duration, buildings):\n",
    "        B = rainfall.size(0)\n",
    "\n",
    "        # Encode rainfall time series\n",
    "        lstm_out, _ = self.lstm(rainfall)\n",
    "        rainfall_feat = lstm_out[:, -1, :]  # last time step\n",
    "\n",
    "        # Encode duration\n",
    "        duration_feat = F.relu(self.duration_fc(duration))\n",
    "\n",
    "        # Combine rainfall + duration\n",
    "        fused = torch.cat([rainfall_feat, duration_feat], dim=1)\n",
    "        fused = F.relu(self.fusion_fc(fused))  # (B, H*W)\n",
    "        fused = fused.view(B, 1, self.grid_size, self.grid_size)  # reshape to spatial\n",
    "\n",
    "        # Encode building map\n",
    "        buildings = buildings.unsqueeze(1)  # (B, 1, H, W)\n",
    "        building_feat = self.building_encoder(buildings)\n",
    "\n",
    "        # Concatenate spatial features\n",
    "        combined = torch.cat([building_feat, fused], dim=1)  # (B, 33, H, W)\n",
    "\n",
    "        # Decode to flood map\n",
    "        flood_pred = self.decoder(combined).squeeze(1)  # (B, H, W)\n",
    "        return flood_pred\n"
   ]
  },
  {
   "cell_type": "code",
   "execution_count": 133,
   "id": "8d4725ee",
   "metadata": {},
   "outputs": [
    {
     "name": "stdout",
     "output_type": "stream",
     "text": [
      "Epoch 1, Loss: 0.6650\n",
      "Epoch 2, Loss: 0.5298\n",
      "Epoch 3, Loss: 0.4127\n",
      "Epoch 4, Loss: 0.3975\n",
      "Epoch 5, Loss: 0.3715\n",
      "Epoch 6, Loss: 0.3857\n",
      "Epoch 7, Loss: 0.3688\n",
      "Epoch 8, Loss: 0.3855\n",
      "Epoch 9, Loss: 0.3816\n",
      "Epoch 10, Loss: 0.3783\n"
     ]
    }
   ],
   "source": [
    "# Setup\n",
    "model = FloodPredictor()\n",
    "optimizer = torch.optim.Adam(model.parameters(), lr=1e-3)\n",
    "criterion = nn.BCELoss()\n",
    "num_epochs = 10\n",
    "\n",
    "# Dataloader\n",
    "train_size = int(0.7 * len(dataset))\n",
    "test_size = len(dataset) - train_size\n",
    "train_dataset, test_dataset = random_split(dataset, [train_size, test_size])\n",
    "\n",
    "train_loader = DataLoader(train_dataset, batch_size=32, shuffle=True)\n",
    "test_loader = DataLoader(test_dataset, batch_size=1, shuffle=False)\n",
    "\n",
    "# Training loop\n",
    "for epoch in range(num_epochs):\n",
    "    model.train()\n",
    "    total_loss = 0\n",
    "    for batch in train_loader:\n",
    "        rain = batch['rainfall']\n",
    "        dur = batch['duration']\n",
    "        build = batch['buildings']\n",
    "        flood = batch['flood']\n",
    "\n",
    "        pred = model(rain, dur, build)\n",
    "        loss = criterion(pred, flood)\n",
    "\n",
    "        optimizer.zero_grad()\n",
    "        loss.backward()\n",
    "        optimizer.step()\n",
    "\n",
    "        total_loss += loss.item()\n",
    "\n",
    "    print(f\"Epoch {epoch+1}, Loss: {total_loss/len(train_loader):.4f}\")\n"
   ]
  },
  {
   "cell_type": "code",
   "execution_count": 135,
   "id": "9af62bf9",
   "metadata": {},
   "outputs": [
    {
     "data": {
      "image/png": "[encoded data removed]",
      "text/plain": [
       "<Figure size 1000x400 with 2 Axes>"
      ]
     },
     "metadata": {},
     "output_type": "display_data"
    }
   ],
   "source": [
    "# Visualize a sample prediction for test dataset\n",
    "model.eval()\n",
    "sample = test_dataset[0]\n",
    "with torch.no_grad():\n",
    "    pred = model(sample[\"rainfall\"].unsqueeze(0), sample[\"duration\"].unsqueeze(0), sample[\"buildings\"].unsqueeze(0))\n",
    "\n",
    "plt.figure(figsize=(10, 4))\n",
    "plt.subplot(1, 2, 1)\n",
    "plt.imshow(sample[\"flood\"], cmap=\"Blues\")\n",
    "plt.title(\"True Flood Map\")\n",
    "plt.subplot(1, 2, 2)\n",
    "plt.imshow(pred.squeeze().cpu().numpy(), cmap=\"Oranges\")\n",
    "plt.title(\"Predicted Flood Map\")\n",
    "plt.show()\n"
   ]
  },
  {
   "cell_type": "code",
   "execution_count": 136,
   "id": "009361db",
   "metadata": {},
   "outputs": [
    {
     "data": {
      "image/png": "[encoded data removed]",
      "text/plain": [
       "<Figure size 1000x400 with 2 Axes>"
      ]
     },
     "metadata": {},
     "output_type": "display_data"
    }
   ],
   "source": [
    "# Visualize a sample prediction for test dataset\n",
    "model.eval()\n",
    "sample = test_dataset[0]\n",
    "with torch.no_grad():\n",
    "    pred = model(sample[\"rainfall\"].unsqueeze(0), sample[\"duration\"].unsqueeze(0), sample[\"buildings\"].unsqueeze(0))\n",
    "\n",
    "plt.figure(figsize=(10, 4))\n",
    "plt.subplot(1, 2, 1)\n",
    "plt.imshow(sample[\"flood\"], cmap=\"Blues\")\n",
    "plt.title(\"True Flood Map\")\n",
    "plt.subplot(1, 2, 2)\n",
    "predicted_flood_map = (pred.squeeze().cpu().numpy() > 0.5).astype(np.float32)\n",
    "plt.imshow(predicted_flood_map, cmap=\"Oranges\")\n",
    "plt.title(\"Predicted Flood Map\")\n",
    "plt.show()\n"
   ]
  },
  {
   "cell_type": "code",
   "execution_count": 137,
   "id": "022d658f",
   "metadata": {},
   "outputs": [],
   "source": [
    "def evaluate_model(model, dataset, threshold=0.5):\n",
    "    \n",
    "    '''\n",
    "    calculate flood map for test dataset and copute confusion matrix, accuracy, precision, and recall.\n",
    "    \n",
    "    '''\n",
    "    \n",
    "    model.eval()\n",
    "    y_true_all = []\n",
    "    y_pred_all = []\n",
    "\n",
    "    with torch.no_grad():\n",
    "        for i in range(len(dataset)):\n",
    "            sample = dataset[i]\n",
    "            rain = sample[\"rainfall\"].unsqueeze(0)\n",
    "            dur = sample[\"duration\"].unsqueeze(0)\n",
    "            build = sample[\"buildings\"].unsqueeze(0)\n",
    "\n",
    "            pred = model(rain, dur, build)\n",
    "            pred_binary = (pred.squeeze().cpu().numpy() > threshold).astype(int)\n",
    "            true_binary = sample[\"flood\"].numpy().astype(int)\n",
    "\n",
    "            y_pred_all.extend(pred_binary.flatten())\n",
    "            y_true_all.extend(true_binary.flatten())\n",
    "\n",
    "    # Convert to numpy arrays\n",
    "    y_true_all = np.array(y_true_all)\n",
    "    y_pred_all = np.array(y_pred_all)\n",
    "\n",
    "    # Confusion matrix\n",
    "    cm = confusion_matrix(y_true_all, y_pred_all)\n",
    "    acc = accuracy_score(y_true_all, y_pred_all)\n",
    "    prec = precision_score(y_true_all, y_pred_all)\n",
    "    rec = recall_score(y_true_all, y_pred_all)\n",
    "\n",
    "    return cm, acc, prec, rec, y_true_all, y_pred_all\n"
   ]
  },
  {
   "cell_type": "code",
   "execution_count": 138,
   "id": "207f4855",
   "metadata": {},
   "outputs": [],
   "source": [
    "def plot_confusion_matrix(y_true, y_pred, labels=[\"Not Flooded\", \"Flooded\"], title=\"Confusion Matrix\"):\n",
    "    '''\n",
    "    Visualize the cofusion matrix\n",
    "    \n",
    "    '''\n",
    "    \n",
    "    cm = confusion_matrix(y_true, y_pred)\n",
    "    plt.figure(figsize=(3, 3))\n",
    "    ax = sns.heatmap(cm, annot=True, fmt=\"d\", cmap=\"Blues\", \n",
    "                xticklabels=labels, yticklabels=labels, cbar=False)\n",
    "    plt.xlabel(\"Predicted Label\")\n",
    "    plt.ylabel(\"True Label\")\n",
    "    plt.title(title)\n",
    "    \n",
    "    for _, spine in ax.spines.items():\n",
    "        spine.set_visible(True)\n",
    "        spine.set_linewidth(2)\n",
    "        spine.set_color(\"black\")\n",
    "        \n",
    "    plt.tight_layout()\n",
    "    plt.show()\n"
   ]
  },
  {
   "cell_type": "code",
   "execution_count": 139,
   "id": "7cca5c70",
   "metadata": {},
   "outputs": [
    {
     "data": {
      "image/png": "[encoded data removed]",
      "text/plain": [
       "<Figure size 300x300 with 1 Axes>"
      ]
     },
     "metadata": {},
     "output_type": "display_data"
    },
    {
     "name": "stdout",
     "output_type": "stream",
     "text": [
      "Confusion Matrix:\n",
      " [[122869  57875]\n",
      " [     9 126447]]\n",
      "Accuracy:  0.812\n",
      "Precision: 0.686\n",
      "Recall:    1.000\n"
     ]
    }
   ],
   "source": [
    "cm, acc, prec, rec, y_true_all, y_pred_all = evaluate_model(model, test_dataset)\n",
    "plot_confusion_matrix(y_true_all, y_pred_all)\n",
    "print(\"Confusion Matrix:\\n\", cm)\n",
    "print(f\"Accuracy:  {acc:.3f}\")\n",
    "print(f\"Precision: {prec:.3f}\")\n",
    "print(f\"Recall:    {rec:.3f}\")"
   ]
  },
  {
   "cell_type": "code",
   "execution_count": null,
   "id": "64672a86",
   "metadata": {},
   "outputs": [],
   "source": []
  }
 ],
 "metadata": {
  "kernelspec": {
   "display_name": "Python 3.9 (pytorch)",
   "language": "python",
   "name": "pytorch"
  },
  "language_info": {
   "codemirror_mode": {
    "name": "ipython",
    "version": 3
   },
   "file_extension": ".py",
   "mimetype": "text/x-python",
   "name": "python",
   "nbconvert_exporter": "python",
   "pygments_lexer": "ipython3",
   "version": "3.9.16"
  }
 },
 "nbformat": 4,
 "nbformat_minor": 5
}
